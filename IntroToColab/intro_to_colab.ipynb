{
  "nbformat": 4,
  "nbformat_minor": 0,
  "metadata": {
    "colab": {
      "name": "intro_to_colab.ipynb",
      "provenance": [],
      "collapsed_sections": [],
      "include_colab_link": true
    },
    "kernelspec": {
      "name": "python3",
      "display_name": "Python 3"
    }
  },
  "cells": [
    {
      "cell_type": "markdown",
      "metadata": {
        "id": "view-in-github",
        "colab_type": "text"
      },
      "source": [
        "<a href=\"https://colab.research.google.com/github/nEXOSkyline/IntroToPythonSkyline/blob/main/IntroToColab/intro_to_colab.ipynb\" target=\"_parent\"><img src=\"https://colab.research.google.com/assets/colab-badge.svg\" alt=\"Open In Colab\"/></a>"
      ]
    },
    {
      "cell_type": "markdown",
      "metadata": {
        "id": "SGZNCNKYY1hZ"
      },
      "source": [
        "**How to save this notebook to your personal Drive**\n",
        "\n",
        "To copy this notebook to your Google Drive, go to File and select \"Save a copy in Drive\", where it will automatically open the copy in a new tab for you to work in. This notebook will be saved into a folder on your personal Drive called \"Colab Notebooks\".\n"
      ]
    },
    {
      "cell_type": "markdown",
      "metadata": {
        "id": "R2M_OCRVY4qk"
      },
      "source": [
        "# My Header"
      ]
    },
    {
      "cell_type": "markdown",
      "metadata": {
        "id": "982l2i-4cjzz"
      },
      "source": [
        "My description"
      ]
    },
    {
      "cell_type": "code",
      "metadata": {
        "id": "zEHTex8HOEIA",
        "colab": {
          "base_uri": "https://localhost:8080/",
          "height": 361
        },
        "outputId": "82329584-5a43-430c-fd02-5169296e68b7"
      },
      "source": [
        "from IPython.display import Image\n",
        "Image(url='https://skylinecollege.edu/mcpr/images/logos/png/skyline_logo_cmyk_noTag.png',width=600)\n"
      ],
      "execution_count": 2,
      "outputs": [
        {
          "output_type": "execute_result",
          "data": {
            "text/plain": [
              "<IPython.core.display.Image object>"
            ],
            "text/html": [
              "<img src=\"https://skylinecollege.edu/mcpr/images/logos/png/skyline_logo_cmyk_noTag.png\" width=\"600\"/>"
            ]
          },
          "metadata": {},
          "execution_count": 2
        }
      ]
    },
    {
      "cell_type": "markdown",
      "metadata": {
        "id": "mU0EDcm2tqUj"
      },
      "source": [
        "Try adding your own text or code..."
      ]
    },
    {
      "cell_type": "markdown",
      "source": [
        ""
      ],
      "metadata": {
        "id": "qrWQJjkCevGi"
      }
    },
    {
      "cell_type": "code",
      "metadata": {
        "id": "oOQhnKn81fgE"
      },
      "source": [
        ""
      ],
      "execution_count": null,
      "outputs": []
    }
  ]
}