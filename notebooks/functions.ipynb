{
  "nbformat": 4,
  "nbformat_minor": 0,
  "metadata": {
    "colab": {
      "name": "functions.ipynb",
      "provenance": [],
      "collapsed_sections": [
        "-WbuWo5Iv_-j",
        "eWlQkAC3wYah"
      ],
      "include_colab_link": true
    },
    "kernelspec": {
      "name": "python3",
      "display_name": "Python 3"
    },
    "language_info": {
      "name": "python"
    }
  },
  "cells": [
    {
      "cell_type": "markdown",
      "metadata": {
        "id": "view-in-github",
        "colab_type": "text"
      },
      "source": [
        "<a href=\"https://colab.research.google.com/github/nEXOSkyline/IntroToPythonSkyline/blob/main/notebooks/functions.ipynb\" target=\"_parent\"><img src=\"https://colab.research.google.com/assets/colab-badge.svg\" alt=\"Open In Colab\"/></a>"
      ]
    },
    {
      "cell_type": "markdown",
      "source": [
        "# **Section 3: Functions**\n",
        "# Material developed by Victoria Catlett for APS Python *Workshop*"
      ],
      "metadata": {
        "id": "FoHBQPybhEic"
      }
    },
    {
      "cell_type": "markdown",
      "source": [
        "# **Built-In Functions**"
      ],
      "metadata": {
        "id": "-WbuWo5Iv_-j"
      }
    },
    {
      "cell_type": "markdown",
      "source": [
        "## Math Operators\n",
        "You can do math on floats and integers relatively easily. Addition, subtraction, multiplication, and division are defined by ```+```,```-```,```*```, and ```/```, respectively. "
      ],
      "metadata": {
        "id": "1H3GBuAswE05"
      }
    },
    {
      "cell_type": "markdown",
      "source": [
        "## **Task 1.3.1**\n",
        "* Determine what kind of variable you get when you divide 18 by 3 (both integers)\n",
        "* Print the result"
      ],
      "metadata": {
        "id": "Ui2c0H0MhL-c"
      }
    },
    {
      "cell_type": "code",
      "source": [
        "# YOUR CODE HERE\n"
      ],
      "metadata": {
        "id": "1EejmbF1hX6a"
      },
      "execution_count": 4,
      "outputs": []
    },
    {
      "cell_type": "markdown",
      "source": [
        "## Built-In Functions\n",
        "In addition to ```+```,```-```,```*```, and ```/```, many other common functions are built into Python. Here are a few examples:\n",
        "\n",
        "* ```abs(your_number)``` returns the absolute value of a number\n",
        "\n",
        "* ```sum(your_list)``` returns the sum of the elements in a numerical list\n",
        "\n",
        "* ```min(your_list)``` returns the minimum of a numerical list\n",
        "\n",
        "* ```max(your_list)``` returns the maximum of a numerical list\n",
        "\n",
        "* ```range(int1, int2, int3)``` returns a list from int1 to int2 (not including int2) in steps of int3\n",
        "\n",
        "* ```range(your_integer)``` returns a list from 0 to (your_integer - 1) in steps of 1"
      ],
      "metadata": {
        "id": "Cksu0-30heHt"
      }
    },
    {
      "cell_type": "markdown",
      "source": [
        "## **Task 1.3.2**\n",
        "* Find the sum of the minimum and maximum of ```[1,2,3,4]```\n",
        "* Print the result"
      ],
      "metadata": {
        "id": "tuASFQO0hhDG"
      }
    },
    {
      "cell_type": "code",
      "source": [
        "# YOUR CODE HERE\n"
      ],
      "metadata": {
        "id": "cqgtak0qh_f9"
      },
      "execution_count": 5,
      "outputs": []
    },
    {
      "cell_type": "markdown",
      "source": [
        "## Logical Operators\n",
        "### Boolean Operators\n",
        "**Boolean operators** evaluate an expression to a boolean, that is, they determine if a statement is True or False. \n",
        "The operators \"and,\" \"or,\" and \"not\" are ```and```, ```or```, and ```not``` in Python (that's nice!).\n",
        "\n",
        "Here is an example using boolean operators:\n",
        "\n",
        "```test_boolean = True and False```\n",
        "\n",
        "```test_boolean``` will be False.\n",
        "### Comparison Operators\n",
        "**Comparison operators**, as their name suggests, compare two values. They are as follows:\n",
        "\n",
        "|Operator|English Equivalent|\n",
        "|:--:|:----------:|\n",
        "|<|\"Less than\"|\n",
        "|<=|\"Less than or equal to\"|\n",
        "|>|\"Greater than\"|\n",
        "|>=|\"Greater than or equal to\"|\n",
        "|==|\"Equal to\"|\n",
        "|!=|\"Not equal to\"|\n",
        "\n",
        "Here is an example using comparison operators:\n",
        "\n",
        "```test_comparison = 3 <= 7```\n",
        "\n",
        "```test_comparison``` will be True. "
      ],
      "metadata": {
        "id": "lcq_VMZMiNre"
      }
    },
    {
      "cell_type": "markdown",
      "source": [
        "## **Task 1.3.3**\n",
        "* Determine if the following statement is True or False:\n",
        "```not (20 is less than or equal to 19)```\n",
        "* Print the result"
      ],
      "metadata": {
        "id": "NZ3bnspEiQ0O"
      }
    },
    {
      "cell_type": "code",
      "source": [
        "# YOUR CODE HERE\n"
      ],
      "metadata": {
        "id": "IeJV7ATHidq7"
      },
      "execution_count": 6,
      "outputs": []
    },
    {
      "cell_type": "markdown",
      "source": [
        "# **User-Defined Functions**"
      ],
      "metadata": {
        "id": "eWlQkAC3wYah"
      }
    },
    {
      "cell_type": "markdown",
      "source": [
        "The built-in functions are great, but they don't cover every function you could possibly think of. Thankfully, you can make your own, but pay attention to indentations!\n",
        "\n",
        "The cell below will show you how to construct a simple function, and the example will return the sum and difference of two numbers."
      ],
      "metadata": {
        "id": "dlIfE4r7blMa"
      }
    },
    {
      "cell_type": "code",
      "source": [
        "'''\n",
        "A function should be defined as follows:\n",
        "\n",
        "def function_name(your_inputs)\n",
        "    # type all of the operations\n",
        "    return your_outputs\n",
        "    \n",
        "Make sure everything inside of the function is INDENTED\n",
        "'''\n",
        "\n",
        "def sum_diff(a,b):\n",
        "    c = a + b\n",
        "    d = a - b\n",
        "    return c, d\n",
        "\n",
        "'''\n",
        "Once you define a function, you can save the outputs it generates \n",
        "from any valid inputs:\n",
        "\n",
        "[output_values] = function_name(input_values)\n",
        "\n",
        "Below, we will save the sum and difference of 3 and 4.\n",
        "'''\n",
        "\n",
        "[test_sum, test_diff] = sum_diff(3,4)\n",
        "\n",
        "print(\"Sum =\", test_sum, \", Difference =\", test_diff)"
      ],
      "metadata": {
        "colab": {
          "base_uri": "https://localhost:8080/"
        },
        "id": "-uL3t4KubxWj",
        "outputId": "395b3a42-f682-4b5d-a456-be43d3183ff0"
      },
      "execution_count": 11,
      "outputs": [
        {
          "output_type": "stream",
          "name": "stdout",
          "text": [
            "Sum = 7 , Difference = -1\n"
          ]
        }
      ]
    },
    {
      "cell_type": "markdown",
      "source": [
        "## **Task 1.3.4**\n",
        "Make a function which returns c, the product of inputs a and b."
      ],
      "metadata": {
        "id": "y3N2pYKbcCGj"
      }
    },
    {
      "cell_type": "code",
      "source": [
        "# YOUR CODE HERE\n"
      ],
      "metadata": {
        "id": "M7pcqogZwcs3"
      },
      "execution_count": 8,
      "outputs": []
    }
  ]
}