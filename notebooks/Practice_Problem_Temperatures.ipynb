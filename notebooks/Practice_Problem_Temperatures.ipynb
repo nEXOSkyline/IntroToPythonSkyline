{
  "cells": [
    {
      "cell_type": "markdown",
      "metadata": {
        "id": "view-in-github",
        "colab_type": "text"
      },
      "source": [
        "<a href=\"https://colab.research.google.com/github/nEXOSkyline/IntroToPythonSkyline/blob/main/notebooks/Practice_Problem_Temperatures.ipynb\" target=\"_parent\"><img src=\"https://colab.research.google.com/assets/colab-badge.svg\" alt=\"Open In Colab\"/></a>"
      ]
    },
    {
      "cell_type": "markdown",
      "metadata": {
        "id": "lwDWr2--45rt"
      },
      "source": [
        "# Practice Problem - Temperatures"
      ]
    },
    {
      "cell_type": "markdown",
      "metadata": {
        "id": "8LOJSR7545ry"
      },
      "source": [
        "Use the [data/munich_temperatures_average.txt](data/munich_temperatures_average.txt) data file, which gives the temperature in Munich every day for several years. Read in the data, and print out the minimum, average maximum temperature for each year, e.g:\n",
        "\n",
        "    1995: -3C  10C  35C\n",
        "    1996: ...\n",
        "    \n",
        "You can also try and print out the same values, but for each month (averaged over years), e.g.:\n",
        "\n",
        "    January: -15C 0C 3C\n",
        "    February: ..."
      ]
    },
    {
      "cell_type": "markdown",
      "metadata": {
        "id": "jmhFH58W45rz"
      },
      "source": [
        "## Solution"
      ]
    },
    {
      "cell_type": "markdown",
      "source": [
        "A little help to get started reading the data."
      ],
      "metadata": {
        "id": "wfdqqEsYzKAf"
      }
    },
    {
      "cell_type": "code",
      "source": [
        "# Load the Drive helper and mount\n",
        "from google.colab import drive\n",
        "\n",
        "# This will prompt for authorization.\n",
        "drive.mount('/content/drive')\n",
        "! git clone https://github.com/nEXOSkyline/IntroToPythonSkyline"
      ],
      "metadata": {
        "colab": {
          "base_uri": "https://localhost:8080/"
        },
        "id": "tNXF0hbP53lc",
        "outputId": "8a39cc76-4f7f-4c4b-f2aa-eadb931fd460"
      },
      "execution_count": 24,
      "outputs": [
        {
          "output_type": "stream",
          "name": "stdout",
          "text": [
            "Drive already mounted at /content/drive; to attempt to forcibly remount, call drive.mount(\"/content/drive\", force_remount=True).\n",
            "Cloning into 'IntroToPythonSkyline'...\n",
            "remote: Enumerating objects: 35, done.\u001b[K\n",
            "remote: Counting objects: 100% (35/35), done.\u001b[K\n",
            "remote: Compressing objects: 100% (31/31), done.\u001b[K\n",
            "remote: Total 35 (delta 12), reused 0 (delta 0), pack-reused 0\u001b[K\n",
            "Unpacking objects: 100% (35/35), done.\n"
          ]
        }
      ]
    },
    {
      "cell_type": "code",
      "execution_count": 26,
      "metadata": {
        "id": "lDOW6Jnp45r0"
      },
      "outputs": [],
      "source": [
        "\n",
        "\n",
        "days = []\n",
        "temperatures = []\n",
        "\n",
        "for line in open('/content/IntroToPythonSkyline/data/munich_temperatures_average.txt', 'r'):\n",
        "    \n",
        "    day, temperature = line.strip().split()\n",
        "    \n",
        "    # day and temperature are strings so we need to convert them\n",
        "    # when we append them to the lists\n",
        "    days.append(float(day))\n",
        "    temperatures.append(float(temperature))\n"
      ]
    },
    {
      "cell_type": "code",
      "source": [
        "# your solution here\n"
      ],
      "metadata": {
        "id": "HQHMef0s64_L"
      },
      "execution_count": 27,
      "outputs": []
    }
  ],
  "metadata": {
    "colab": {
      "name": "Practice Problem - Temperatures.ipynb",
      "provenance": [],
      "include_colab_link": true
    },
    "language_info": {
      "name": "python"
    },
    "kernelspec": {
      "name": "python3",
      "display_name": "Python 3"
    },
    "gpuClass": "standard"
  },
  "nbformat": 4,
  "nbformat_minor": 0
}