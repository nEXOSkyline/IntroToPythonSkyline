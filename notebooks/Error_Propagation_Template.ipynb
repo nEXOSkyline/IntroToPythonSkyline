{
  "cells": [
    {
      "cell_type": "markdown",
      "metadata": {
        "id": "view-in-github",
        "colab_type": "text"
      },
      "source": [
        "<a href=\"https://colab.research.google.com/github/nEXOSkyline/IntroToPythonSkyline/blob/main/notebooks/Error_Propagation_Template.ipynb\" target=\"_parent\"><img src=\"https://colab.research.google.com/assets/colab-badge.svg\" alt=\"Open In Colab\"/></a>"
      ]
    },
    {
      "cell_type": "markdown",
      "metadata": {
        "id": "lZBHIdt7ojMK"
      },
      "source": [
        "This code can be used for Exercise 1, providing a quick introduction to using Python in a Jupyter worksheet.  Each block (called a cell) covers a specific step in the process.\n",
        "In almost every language or platform, it is important to include the appropriate libraries of functions.  The import command accomplishes that in Python. Be aware that some of the cells in this template do not display any results - that doesn't mean that they were not doing important things behind the scenes!\n",
        "For a reference to mathematical functions in numpy, go to http://docs.scipy.org/doc/numpy/reference/routines.math.html or a similar reference website."
      ]
    },
    {
      "cell_type": "code",
      "execution_count": 1,
      "metadata": {
        "collapsed": true,
        "id": "cj6T45r5ojMO"
      },
      "outputs": [],
      "source": [
        "import numpy as np\n",
        "import matplotlib.pyplot as plt\n",
        "import math\n",
        "%matplotlib inline"
      ]
    },
    {
      "cell_type": "markdown",
      "metadata": {
        "id": "NYbEEOOCojMP"
      },
      "source": [
        "In the next block, define any constants that you might need for your particular function.  This will make it easier to enter and read your function.\n",
        "For the Monte Carlo simulation, we need to define how many times you will simulate the results, for the first example I set N to 10000, which is something that you can play with."
      ]
    },
    {
      "cell_type": "code",
      "execution_count": 2,
      "metadata": {
        "collapsed": true,
        "id": "YtIXfxcsojMP"
      },
      "outputs": [],
      "source": [
        "N = 10000"
      ]
    },
    {
      "cell_type": "markdown",
      "metadata": {
        "id": "8S_804W0ojMQ"
      },
      "source": [
        "You need to define and initialize variables to represent the mean and standard error for each parameter in your particular function.\n",
        "In my example, I was using mu for the mean and sigma for the errors, but you can create your own nomenclature!  Go ahead and name your variables so that it makes it easier to read and understand."
      ]
    },
    {
      "cell_type": "code",
      "execution_count": 3,
      "metadata": {
        "collapsed": true,
        "id": "id8cMsqMojMQ"
      },
      "outputs": [],
      "source": [
        "mu_x1 = 5.00\n",
        "sigma_x1 = .20\n",
        "mu_x2 = 6.50\n",
        "sigma_x2 = .10"
      ]
    },
    {
      "cell_type": "markdown",
      "metadata": {
        "id": "5HIeBy34ojMR"
      },
      "source": [
        "It is time to roll the dice and generate simulations of your parameters.  The random.normal function will generate a gaussian distribution of N values given a particular mean (mu) and deviation (sigma).  If you have more parameters, you'll need to generate an array of N values for each parameter."
      ]
    },
    {
      "cell_type": "code",
      "execution_count": 4,
      "metadata": {
        "collapsed": true,
        "id": "fQyBZrMCojMS"
      },
      "outputs": [],
      "source": [
        "x1 = np.random.normal(mu_x1,sigma_x1, N)\n",
        "x2 = np.random.normal(mu_x2,sigma_x2, N)"
      ]
    },
    {
      "cell_type": "markdown",
      "metadata": {
        "id": "jWU0LbBvojMS"
      },
      "source": [
        "Now that you've created your simulated data, define your particular function using your parameters.\n",
        "You certainly could use a more appropriate name for the function, for example, call it path_difference if that is what you are simulating.  However, that means that you'll need to edit the rest of the file to use that name instead of my_function. It is a personal style choice for you to make."
      ]
    },
    {
      "cell_type": "code",
      "execution_count": 5,
      "metadata": {
        "collapsed": true,
        "id": "_PgSdQMaojMT"
      },
      "outputs": [],
      "source": [
        "my_function = x2 + x1"
      ]
    },
    {
      "cell_type": "markdown",
      "metadata": {
        "id": "4dZIIvNIojMT"
      },
      "source": [
        "Calculate the mean and deviation of your simulated function.  These simulated or Monte Carlo results are independent of the traditional assumption that the function is $reasonably$ $linear$ over the range mu ± sigma."
      ]
    },
    {
      "cell_type": "code",
      "execution_count": 7,
      "metadata": {
        "collapsed": true,
        "id": "KPPdo3-dojMU"
      },
      "outputs": [],
      "source": [
        "my_average = np.mean(my_function)\n",
        "my_error = np.std(my_function)"
      ]
    },
    {
      "cell_type": "markdown",
      "metadata": {
        "id": "BYGaHbRqojMU"
      },
      "source": [
        "You may as well calculate the value and error of your function using the traditional method of error propagation.  Evaluate your function using the mean value of each parameter.  For the propagated error, you'll need to go through the appropriate derivatives and simplification.  For this example, I used the simplified result for adding/subtracting two parameters."
      ]
    },
    {
      "cell_type": "code",
      "execution_count": 8,
      "metadata": {
        "collapsed": true,
        "id": "9v_dJLZqojMU"
      },
      "outputs": [],
      "source": [
        "trad_average = mu_x2 + mu_x1\n",
        "trad_error = math.sqrt(sigma_x2**2 + sigma_x1**2)"
      ]
    },
    {
      "cell_type": "markdown",
      "metadata": {
        "id": "WC19mGRPojMV"
      },
      "source": [
        "Time to look at the results!  Note that I have not constrained the significant digits, so you will need to round off the error appropriately (two significant digits) and then round the mean value to correspond to the last decimal place of the error."
      ]
    },
    {
      "cell_type": "code",
      "execution_count": 9,
      "metadata": {
        "colab": {
          "base_uri": "https://localhost:8080/"
        },
        "id": "1sdbBg5dojMV",
        "outputId": "fd11c897-51ba-46b3-f3c5-b42ce66bdaff"
      },
      "outputs": [
        {
          "output_type": "stream",
          "name": "stdout",
          "text": [
            "Monte Carlo Result:  11.504103535539107  ±  0.22493133667835816\n",
            "Traditional Result:  11.5  ±  0.223606797749979\n"
          ]
        }
      ],
      "source": [
        "print(\"Monte Carlo Result: \",my_average, \" ± \", my_error)\n",
        "print(\"Traditional Result: \",trad_average, \" ± \", trad_error)"
      ]
    },
    {
      "cell_type": "markdown",
      "metadata": {
        "id": "ZT8QGhHoojMW"
      },
      "source": [
        "It can be useful to visualize the simulated data.  The following code will generate a 30 bin histogram, with an overlay of a gaussian function corresponding to your Monte Carlo results."
      ]
    },
    {
      "cell_type": "code",
      "execution_count": 10,
      "metadata": {
        "colab": {
          "base_uri": "https://localhost:8080/",
          "height": 265
        },
        "id": "eQ4csb3OojMW",
        "outputId": "2a5b7171-665f-4dbc-8946-cd846867149e"
      },
      "outputs": [
        {
          "output_type": "display_data",
          "data": {
            "text/plain": [
              "<Figure size 432x288 with 1 Axes>"
            ],
            "image/png": "[encoded data removed]"
          },
          "metadata": {
            "needs_background": "light"
          }
        }
      ],
      "source": [
        "#count, bins, ignored = plt.hist(my_function, 30, normed=True)\n",
        "count, bins, ignored = plt.hist(my_function, 30)\n",
        "# create 30 points of a gaussian function based on the average and error\n",
        "overlay = 1/(my_error * np.sqrt(2 * np.pi)) * np.exp( - (bins - my_average)**2 / (2 * my_error**2) )\n",
        "# add that gaussian curve to the graph\n",
        "plt.plot(bins,overlay)\n",
        "plt.show()"
      ]
    },
    {
      "cell_type": "code",
      "execution_count": 10,
      "metadata": {
        "collapsed": true,
        "id": "J6L9Wo-cojMX"
      },
      "outputs": [],
      "source": [
        ""
      ]
    }
  ],
  "metadata": {
    "kernelspec": {
      "display_name": "Python [Root]",
      "language": "python",
      "name": "Python [Root]"
    },
    "language_info": {
      "codemirror_mode": {
        "name": "ipython",
        "version": 3
      },
      "file_extension": ".py",
      "mimetype": "text/x-python",
      "name": "python",
      "nbconvert_exporter": "python",
      "pygments_lexer": "ipython3",
      "version": "3.5.2"
    },
    "colab": {
      "name": "Error_Propagation_Template.ipynb",
      "provenance": [],
      "include_colab_link": true
    }
  },
  "nbformat": 4,
  "nbformat_minor": 0
}